{
 "cells": [
  {
   "cell_type": "markdown",
   "metadata": {},
   "source": [
    "## Observations and Insights "
   ]
  },
  {
   "cell_type": "markdown",
   "metadata": {},
   "source": []
  },
  {
   "cell_type": "code",
   "execution_count": 2,
   "metadata": {},
   "outputs": [],
   "source": [
    "# Dependencies and Setup\n",
    "import matplotlib.pyplot as plt\n",
    "import pandas as pd\n",
    "import scipy.stats as st\n",
    "import numpy as np\n",
    "\n",
    "# Study data files\n",
    "mouse_metadata_path = \"data/Mouse_metadata.csv\"\n",
    "study_results_path = \"data/Study_results.csv\"\n",
    "\n",
    "# Read the mouse data and the study results\n",
    "mouse_metadata = pd.read_csv(mouse_metadata_path)\n",
    "study_results = pd.read_csv(study_results_path)\n",
    "\n",
    "# Combine the data into a single dataset\n",
    "mouse_study = pd.merge(mouse_metadata, study_results,how = 'left', on=\"Mouse ID\")\n",
    "mouse_study2 = mouse_study[(mouse_study['Drug Regimen']  == \"Capomulin\")|(mouse_study['Drug Regimen']  == 'Infubinol')|(mouse_study['Drug Regimen']  == 'Ketapril') |(mouse_study['Drug Regimen']  == 'Placebo')]\n"
   ]
  },
  {
   "cell_type": "code",
   "execution_count": 3,
   "metadata": {},
   "outputs": [
    {
     "data": {
      "text/html": [
       "<div>\n",
       "<style scoped>\n",
       "    .dataframe tbody tr th:only-of-type {\n",
       "        vertical-align: middle;\n",
       "    }\n",
       "\n",
       "    .dataframe tbody tr th {\n",
       "        vertical-align: top;\n",
       "    }\n",
       "\n",
       "    .dataframe thead th {\n",
       "        text-align: right;\n",
       "    }\n",
       "</style>\n",
       "<table border=\"1\" class=\"dataframe\">\n",
       "  <thead>\n",
       "    <tr style=\"text-align: right;\">\n",
       "      <th></th>\n",
       "      <th>Mouse ID</th>\n",
       "      <th>Drug Regimen</th>\n",
       "      <th>Sex</th>\n",
       "      <th>Age_months</th>\n",
       "      <th>Weight (g)</th>\n",
       "      <th>Timepoint</th>\n",
       "      <th>Tumor Volume (mm3)</th>\n",
       "      <th>Metastatic Sites</th>\n",
       "    </tr>\n",
       "  </thead>\n",
       "  <tbody>\n",
       "    <tr>\n",
       "      <th>10</th>\n",
       "      <td>s185</td>\n",
       "      <td>Capomulin</td>\n",
       "      <td>Female</td>\n",
       "      <td>3</td>\n",
       "      <td>17</td>\n",
       "      <td>0</td>\n",
       "      <td>45.000000</td>\n",
       "      <td>0</td>\n",
       "    </tr>\n",
       "    <tr>\n",
       "      <th>11</th>\n",
       "      <td>s185</td>\n",
       "      <td>Capomulin</td>\n",
       "      <td>Female</td>\n",
       "      <td>3</td>\n",
       "      <td>17</td>\n",
       "      <td>5</td>\n",
       "      <td>43.878496</td>\n",
       "      <td>0</td>\n",
       "    </tr>\n",
       "    <tr>\n",
       "      <th>12</th>\n",
       "      <td>s185</td>\n",
       "      <td>Capomulin</td>\n",
       "      <td>Female</td>\n",
       "      <td>3</td>\n",
       "      <td>17</td>\n",
       "      <td>10</td>\n",
       "      <td>37.614948</td>\n",
       "      <td>0</td>\n",
       "    </tr>\n",
       "    <tr>\n",
       "      <th>13</th>\n",
       "      <td>s185</td>\n",
       "      <td>Capomulin</td>\n",
       "      <td>Female</td>\n",
       "      <td>3</td>\n",
       "      <td>17</td>\n",
       "      <td>15</td>\n",
       "      <td>38.177232</td>\n",
       "      <td>0</td>\n",
       "    </tr>\n",
       "    <tr>\n",
       "      <th>14</th>\n",
       "      <td>s185</td>\n",
       "      <td>Capomulin</td>\n",
       "      <td>Female</td>\n",
       "      <td>3</td>\n",
       "      <td>17</td>\n",
       "      <td>20</td>\n",
       "      <td>36.866876</td>\n",
       "      <td>0</td>\n",
       "    </tr>\n",
       "  </tbody>\n",
       "</table>\n",
       "</div>"
      ],
      "text/plain": [
       "   Mouse ID Drug Regimen     Sex  Age_months  Weight (g)  Timepoint  \\\n",
       "10     s185    Capomulin  Female           3          17          0   \n",
       "11     s185    Capomulin  Female           3          17          5   \n",
       "12     s185    Capomulin  Female           3          17         10   \n",
       "13     s185    Capomulin  Female           3          17         15   \n",
       "14     s185    Capomulin  Female           3          17         20   \n",
       "\n",
       "    Tumor Volume (mm3)  Metastatic Sites  \n",
       "10           45.000000                 0  \n",
       "11           43.878496                 0  \n",
       "12           37.614948                 0  \n",
       "13           38.177232                 0  \n",
       "14           36.866876                 0  "
      ]
     },
     "execution_count": 3,
     "metadata": {},
     "output_type": "execute_result"
    }
   ],
   "source": [
    "# Display the data table for preview\n",
    "mouse_study2.head()"
   ]
  },
  {
   "cell_type": "code",
   "execution_count": 4,
   "metadata": {},
   "outputs": [],
   "source": [
    "# Getting the duplicate mice by ID number that shows up for Mouse ID and Timepoint. \n",
    "dup_mouse_id = study_results.loc[study_results.duplicated(subset=['Mouse ID', 'Timepoint',]),'Mouse ID'].unique()\n"
   ]
  },
  {
   "cell_type": "code",
   "execution_count": 5,
   "metadata": {},
   "outputs": [],
   "source": [
    "# Create a clean DataFrame by dropping the duplicate mouse by its ID.\n",
    "clean_study_results = study_results[study_results['Mouse ID'].isin(dup_mouse_id)==False]\n",
    "clean_mouse_study2 = mouse_study2[mouse_study2['Mouse ID'].isin(dup_mouse_id)==False]\n",
    "\n",
    "#combine the dataframes using Mouse ID\n",
    "combined_data = pd.merge(clean_study_results, clean_mouse_study2, on = \"Mouse ID\")"
   ]
  },
  {
   "cell_type": "code",
   "execution_count": 6,
   "metadata": {},
   "outputs": [
    {
     "data": {
      "text/html": [
       "<div>\n",
       "<style scoped>\n",
       "    .dataframe tbody tr th:only-of-type {\n",
       "        vertical-align: middle;\n",
       "    }\n",
       "\n",
       "    .dataframe tbody tr th {\n",
       "        vertical-align: top;\n",
       "    }\n",
       "\n",
       "    .dataframe thead th {\n",
       "        text-align: right;\n",
       "    }\n",
       "</style>\n",
       "<table border=\"1\" class=\"dataframe\">\n",
       "  <thead>\n",
       "    <tr style=\"text-align: right;\">\n",
       "      <th></th>\n",
       "      <th>Mouse ID</th>\n",
       "      <th>Timepoint_x</th>\n",
       "      <th>Tumor Volume (mm3)_x</th>\n",
       "      <th>Metastatic Sites_x</th>\n",
       "      <th>Drug Regimen</th>\n",
       "      <th>Sex</th>\n",
       "      <th>Age_months</th>\n",
       "      <th>Weight (g)</th>\n",
       "      <th>Timepoint_y</th>\n",
       "      <th>Tumor Volume (mm3)_y</th>\n",
       "      <th>Metastatic Sites_y</th>\n",
       "    </tr>\n",
       "  </thead>\n",
       "  <tbody>\n",
       "    <tr>\n",
       "      <th>0</th>\n",
       "      <td>b128</td>\n",
       "      <td>0</td>\n",
       "      <td>45.0</td>\n",
       "      <td>0</td>\n",
       "      <td>Capomulin</td>\n",
       "      <td>Female</td>\n",
       "      <td>9</td>\n",
       "      <td>22</td>\n",
       "      <td>0</td>\n",
       "      <td>45.000000</td>\n",
       "      <td>0</td>\n",
       "    </tr>\n",
       "    <tr>\n",
       "      <th>1</th>\n",
       "      <td>b128</td>\n",
       "      <td>0</td>\n",
       "      <td>45.0</td>\n",
       "      <td>0</td>\n",
       "      <td>Capomulin</td>\n",
       "      <td>Female</td>\n",
       "      <td>9</td>\n",
       "      <td>22</td>\n",
       "      <td>5</td>\n",
       "      <td>45.651331</td>\n",
       "      <td>0</td>\n",
       "    </tr>\n",
       "    <tr>\n",
       "      <th>2</th>\n",
       "      <td>b128</td>\n",
       "      <td>0</td>\n",
       "      <td>45.0</td>\n",
       "      <td>0</td>\n",
       "      <td>Capomulin</td>\n",
       "      <td>Female</td>\n",
       "      <td>9</td>\n",
       "      <td>22</td>\n",
       "      <td>10</td>\n",
       "      <td>43.270852</td>\n",
       "      <td>0</td>\n",
       "    </tr>\n",
       "    <tr>\n",
       "      <th>3</th>\n",
       "      <td>b128</td>\n",
       "      <td>0</td>\n",
       "      <td>45.0</td>\n",
       "      <td>0</td>\n",
       "      <td>Capomulin</td>\n",
       "      <td>Female</td>\n",
       "      <td>9</td>\n",
       "      <td>22</td>\n",
       "      <td>15</td>\n",
       "      <td>43.784893</td>\n",
       "      <td>0</td>\n",
       "    </tr>\n",
       "    <tr>\n",
       "      <th>4</th>\n",
       "      <td>b128</td>\n",
       "      <td>0</td>\n",
       "      <td>45.0</td>\n",
       "      <td>0</td>\n",
       "      <td>Capomulin</td>\n",
       "      <td>Female</td>\n",
       "      <td>9</td>\n",
       "      <td>22</td>\n",
       "      <td>20</td>\n",
       "      <td>42.731552</td>\n",
       "      <td>0</td>\n",
       "    </tr>\n",
       "  </tbody>\n",
       "</table>\n",
       "</div>"
      ],
      "text/plain": [
       "  Mouse ID  Timepoint_x  Tumor Volume (mm3)_x  Metastatic Sites_x  \\\n",
       "0     b128            0                  45.0                   0   \n",
       "1     b128            0                  45.0                   0   \n",
       "2     b128            0                  45.0                   0   \n",
       "3     b128            0                  45.0                   0   \n",
       "4     b128            0                  45.0                   0   \n",
       "\n",
       "  Drug Regimen     Sex  Age_months  Weight (g)  Timepoint_y  \\\n",
       "0    Capomulin  Female           9          22            0   \n",
       "1    Capomulin  Female           9          22            5   \n",
       "2    Capomulin  Female           9          22           10   \n",
       "3    Capomulin  Female           9          22           15   \n",
       "4    Capomulin  Female           9          22           20   \n",
       "\n",
       "   Tumor Volume (mm3)_y  Metastatic Sites_y  \n",
       "0             45.000000                   0  \n",
       "1             45.651331                   0  \n",
       "2             43.270852                   0  \n",
       "3             43.784893                   0  \n",
       "4             42.731552                   0  "
      ]
     },
     "execution_count": 6,
     "metadata": {},
     "output_type": "execute_result"
    }
   ],
   "source": [
    "# Display clean data\n",
    "combined_data.head()\n"
   ]
  },
  {
   "cell_type": "markdown",
   "metadata": {},
   "source": [
    "## Summary Statistics"
   ]
  },
  {
   "cell_type": "code",
   "execution_count": 7,
   "metadata": {},
   "outputs": [
    {
     "data": {
      "text/html": [
       "<div>\n",
       "<style scoped>\n",
       "    .dataframe tbody tr th:only-of-type {\n",
       "        vertical-align: middle;\n",
       "    }\n",
       "\n",
       "    .dataframe tbody tr th {\n",
       "        vertical-align: top;\n",
       "    }\n",
       "\n",
       "    .dataframe thead th {\n",
       "        text-align: right;\n",
       "    }\n",
       "</style>\n",
       "<table border=\"1\" class=\"dataframe\">\n",
       "  <thead>\n",
       "    <tr style=\"text-align: right;\">\n",
       "      <th></th>\n",
       "      <th>Trials</th>\n",
       "      <th>Mean</th>\n",
       "      <th>Median</th>\n",
       "      <th>Standard Deviation</th>\n",
       "      <th>Variance</th>\n",
       "      <th>SEM</th>\n",
       "    </tr>\n",
       "    <tr>\n",
       "      <th>Drug Regimen</th>\n",
       "      <th></th>\n",
       "      <th></th>\n",
       "      <th></th>\n",
       "      <th></th>\n",
       "      <th></th>\n",
       "      <th></th>\n",
       "    </tr>\n",
       "  </thead>\n",
       "  <tbody>\n",
       "    <tr>\n",
       "      <th>Capomulin</th>\n",
       "      <td>2214</td>\n",
       "      <td>40.642199</td>\n",
       "      <td>41.534097</td>\n",
       "      <td>4.986119</td>\n",
       "      <td>24.861380</td>\n",
       "      <td>0.105968</td>\n",
       "    </tr>\n",
       "    <tr>\n",
       "      <th>Infubinol</th>\n",
       "      <td>1472</td>\n",
       "      <td>53.634713</td>\n",
       "      <td>52.777870</td>\n",
       "      <td>6.599470</td>\n",
       "      <td>43.553000</td>\n",
       "      <td>0.172011</td>\n",
       "    </tr>\n",
       "    <tr>\n",
       "      <th>Ketapril</th>\n",
       "      <td>1670</td>\n",
       "      <td>55.873466</td>\n",
       "      <td>54.789768</td>\n",
       "      <td>8.296114</td>\n",
       "      <td>68.825509</td>\n",
       "      <td>0.203010</td>\n",
       "    </tr>\n",
       "    <tr>\n",
       "      <th>Placebo</th>\n",
       "      <td>1533</td>\n",
       "      <td>54.800399</td>\n",
       "      <td>52.818634</td>\n",
       "      <td>7.956550</td>\n",
       "      <td>63.306682</td>\n",
       "      <td>0.203214</td>\n",
       "    </tr>\n",
       "  </tbody>\n",
       "</table>\n",
       "</div>"
      ],
      "text/plain": [
       "              Trials       Mean     Median  Standard Deviation   Variance  \\\n",
       "Drug Regimen                                                                \n",
       "Capomulin       2214  40.642199  41.534097            4.986119  24.861380   \n",
       "Infubinol       1472  53.634713  52.777870            6.599470  43.553000   \n",
       "Ketapril        1670  55.873466  54.789768            8.296114  68.825509   \n",
       "Placebo         1533  54.800399  52.818634            7.956550  63.306682   \n",
       "\n",
       "                   SEM  \n",
       "Drug Regimen            \n",
       "Capomulin     0.105968  \n",
       "Infubinol     0.172011  \n",
       "Ketapril      0.203010  \n",
       "Placebo       0.203214  "
      ]
     },
     "execution_count": 7,
     "metadata": {},
     "output_type": "execute_result"
    }
   ],
   "source": [
    "#Creates Summary Table with Drug Regimen\n",
    "summary_data = pd.DataFrame(combined_data.groupby(\"Drug Regimen\").count())\n",
    "\n",
    "#Use groupby to create summary data and add results into columns\n",
    "summary_data[\"Mean\"] = pd.DataFrame(combined_data.groupby(\"Drug Regimen\")[\"Tumor Volume (mm3)_y\"].mean())\n",
    "summary_data[\"Median\"] = pd.DataFrame(combined_data.groupby(\"Drug Regimen\")[\"Tumor Volume (mm3)_y\"].median())\n",
    "summary_data[\"Standard Deviation\"] = pd.DataFrame(combined_data.groupby(\"Drug Regimen\")[\"Tumor Volume (mm3)_y\"].std())\n",
    "summary_data[\"Variance\"] = pd.DataFrame(combined_data.groupby(\"Drug Regimen\")[\"Tumor Volume (mm3)_y\"].var())\n",
    "summary_data[\"SEM\"] = pd.DataFrame(combined_data.groupby(\"Drug Regimen\")[\"Tumor Volume (mm3)_y\"].sem())\n",
    "\n",
    "#Clean up columns\n",
    "summary_data = summary_data[[\"Mouse ID\", \"Mean\", \"Median\", \"Standard Deviation\", \"Variance\", \"SEM\"]]\n",
    "\n",
    "#Rename count column\n",
    "summary_data = summary_data.rename(columns = {\"Mouse ID\" : \"Trials\"})\n",
    "\n",
    "#Print data\n",
    "summary_data.head()"
   ]
  },
  {
   "cell_type": "markdown",
   "metadata": {},
   "source": [
    "## Bar and Pie Charts"
   ]
  },
  {
   "cell_type": "code",
   "execution_count": 8,
   "metadata": {},
   "outputs": [
    {
     "data": {
      "image/png": "[encoded data removed]",
      "text/plain": [
       "<Figure size 432x288 with 1 Axes>"
      ]
     },
     "metadata": {
      "needs_background": "light"
     },
     "output_type": "display_data"
    },
    {
     "data": {
      "text/plain": [
       "<Figure size 432x288 with 0 Axes>"
      ]
     },
     "metadata": {},
     "output_type": "display_data"
    }
   ],
   "source": [
    "# Generate a bar plot showing the total number of mice for each treatment throughout the course of the study using pandas. \n",
    "\n",
    "# Filter the DataFrame\n",
    "trt_mice = summary_data[[\"Trials\"]]\n",
    "\n",
    "# Use DataFrame.plot() in order to create a bar chart of the data\n",
    "trt_mice.plot(kind=\"bar\", figsize=(6,4), color = \"b\", legend=False)\n",
    "\n",
    "# Give Chart a Title\n",
    "plt.title(\"Mice Totals By Drug Regimem\")\n",
    "\n",
    "#Print Chart\n",
    "plt.show()\n",
    "plt.tight_layout()\n"
   ]
  },
  {
   "cell_type": "code",
   "execution_count": 9,
   "metadata": {},
   "outputs": [
    {
     "data": {
      "image/png": "[encoded data removed]",
      "text/plain": [
       "<Figure size 432x288 with 1 Axes>"
      ]
     },
     "metadata": {
      "needs_background": "light"
     },
     "output_type": "display_data"
    }
   ],
   "source": [
    "# Generate a bar plot showing the total number of mice for each treatment throughout the course of the study using pyplot.\n",
    "\n",
    "# Set x axis and tick locations\n",
    "x_axis = np.arange(len(trt_mice))\n",
    "tick_locations = [value for value in x_axis]\n",
    "\n",
    "# Create a list indicating where to write x labels and set figure s\n",
    "plt.figure(figsize=(6,4))\n",
    "plt.bar(x_axis, trt_mice[\"Trials\"], color = \"b\", width = .5)\n",
    "plt.xticks(tick_locations, trt_mice.index.values, rotation=\"vertical\")\n",
    "\n",
    "# Set x and y limits\n",
    "plt.xlim(-0.75, len(x_axis)-.25)\n",
    "plt.ylim(0, max(trt_mice[\"Trials\"])+10)\n",
    "\n",
    "# Give Chart Title and Labels\n",
    "plt.title(\"Mice Totals By Drug Regimem\")\n",
    "plt.xlabel(\"Drug Regimen\")\n",
    "plt.ylabel(\"Mice Totals\")\n",
    "\n",
    "\n",
    "#Print Chart\n",
    "plt.show()"
   ]
  },
  {
   "cell_type": "code",
   "execution_count": 10,
   "metadata": {},
   "outputs": [
    {
     "data": {
      "image/png": "[encoded data removed]",
      "text/plain": [
       "<Figure size 432x288 with 1 Axes>"
      ]
     },
     "metadata": {},
     "output_type": "display_data"
    },
    {
     "data": {
      "text/plain": [
       "Male      3456\n",
       "Female    3433\n",
       "Name: Sex, dtype: int64"
      ]
     },
     "execution_count": 10,
     "metadata": {},
     "output_type": "execute_result"
    }
   ],
   "source": [
    "# Generate a pie plot showing the distribution of female versus male mice using pandas\n",
    "\n",
    "#Figure out number of male vs. female\n",
    "gender_count = combined_data['Sex'].value_counts()\n",
    "\n",
    "# Use DataFrame.plot() To Create Pie Chart\n",
    "gender_count.plot(kind=\"pie\", labels=gender_count.index.values,\n",
    "        autopct=\"%1.1f%%\", shadow=True, startangle=140, subplots=True,legend=False)\n",
    "\n",
    "# Set a title for the chart\n",
    "plt.title(\"Drug Regimen Mice Totals By Gender\")\n",
    "\n",
    "#Print Chart\n",
    "plt.show()\n",
    "gender_count"
   ]
  },
  {
   "cell_type": "code",
   "execution_count": 11,
   "metadata": {},
   "outputs": [
    {
     "data": {
      "image/png": "[encoded data removed]",
      "text/plain": [
       "<Figure size 432x288 with 1 Axes>"
      ]
     },
     "metadata": {},
     "output_type": "display_data"
    },
    {
     "data": {
      "text/plain": [
       "Male      3456\n",
       "Female    3433\n",
       "Name: Sex, dtype: int64"
      ]
     },
     "execution_count": 11,
     "metadata": {},
     "output_type": "execute_result"
    }
   ],
   "source": [
    "# Generate a pie plot showing the distribution of female versus male mice using pyplot\n",
    "\n",
    "#Creating Pie Chart\n",
    "plt.pie(gender_count, labels=gender_count.index.values,\n",
    "        autopct=\"%1.1f%%\", shadow=True, startangle=140)\n",
    "\n",
    "#Set axis to equal so it creates a ciricle\n",
    "plt.axis(\"equal\")\n",
    "\n",
    "# Give Title\n",
    "plt.title(\"Drug Regimen Mice Totals By Gender\")\n",
    "\n",
    "# Print Chart\n",
    "plt.show()\n",
    "gender_count"
   ]
  },
  {
   "cell_type": "markdown",
   "metadata": {},
   "source": [
    "## Quartiles, Outliers and Boxplots"
   ]
  },
  {
   "cell_type": "code",
   "execution_count": 14,
   "metadata": {},
   "outputs": [],
   "source": [
    "# Calculate the final tumor volume of each mouse across four of the treatment regimens:\n",
    "#Capomulin, Ramicane, Infubinol, and Ceftamin\n",
    "\n",
    "# Filter Data\n",
    "filter_data = combined_data.loc[(combined_data[\"Drug Regimen\"] == \"Capomulin\") | (combined_data[\"Drug Regimen\"] == \"Ramicane\") | (combined_data[\"Drug Regimen\"] == \"Ceftamin\") | (combined_data[\"Drug Regimen\"] == \"Infubinol\"), :]\n",
    "\n",
    "# Sort Data By Timpepoints \n",
    "filter_data = filter_data.sort_values(\"Timepoint_y\", ascending = False)\n",
    "\n",
    "# Drop duplicates\n",
    "filter_data = filter_data.drop_duplicates(subset=\"Mouse ID\", keep='first')"
   ]
  },
  {
   "cell_type": "code",
   "execution_count": 36,
   "metadata": {},
   "outputs": [
    {
     "data": {
      "text/html": [
       "<div>\n",
       "<style scoped>\n",
       "    .dataframe tbody tr th:only-of-type {\n",
       "        vertical-align: middle;\n",
       "    }\n",
       "\n",
       "    .dataframe tbody tr th {\n",
       "        vertical-align: top;\n",
       "    }\n",
       "\n",
       "    .dataframe thead th {\n",
       "        text-align: right;\n",
       "    }\n",
       "</style>\n",
       "<table border=\"1\" class=\"dataframe\">\n",
       "  <thead>\n",
       "    <tr style=\"text-align: right;\">\n",
       "      <th></th>\n",
       "      <th>Mouse ID</th>\n",
       "      <th>Timepoint_x</th>\n",
       "      <th>Tumor Volume (mm3)_x</th>\n",
       "      <th>Metastatic Sites_x</th>\n",
       "      <th>Drug Regimen</th>\n",
       "      <th>Sex</th>\n",
       "      <th>Age_months</th>\n",
       "      <th>Weight (g)</th>\n",
       "      <th>Timepoint_y</th>\n",
       "      <th>Tumor Volume (mm3)_y</th>\n",
       "      <th>Metastatic Sites_y</th>\n",
       "    </tr>\n",
       "  </thead>\n",
       "  <tbody>\n",
       "  </tbody>\n",
       "</table>\n",
       "</div>"
      ],
      "text/plain": [
       "Empty DataFrame\n",
       "Columns: [Mouse ID, Timepoint_x, Tumor Volume (mm3)_x, Metastatic Sites_x, Drug Regimen, Sex, Age_months, Weight (g), Timepoint_y, Tumor Volume (mm3)_y, Metastatic Sites_y]\n",
       "Index: []"
      ]
     },
     "execution_count": 36,
     "metadata": {},
     "output_type": "execute_result"
    }
   ],
   "source": [
    "# Determine quartiles\n",
    "quartiles = filter_data['Tumor Volume (mm3)_y'].quantile([.25,.5,.75])\n",
    "L_Q = quartiles[0.25]\n",
    "U_Q = quartiles[0.75]\n",
    "iqr = U_Q-L_Q\n",
    "\n",
    "# Determine upper and lower bounds\n",
    "L_bound = L_Q - (1.5*iqr)\n",
    "U_bound = U_Q + (1.5*iqr)\n",
    "\n",
    "# Print a filtered dataframe of any outliers\n",
    "outliers = filter_data.loc[(filter_data['Tumor Volume (mm3)_y'] > U_bound) | (filter_data['Tumor Volume (mm3)_y'] < L_bound), :]\n",
    "outliers\n",
    "    "
   ]
  },
  {
   "cell_type": "code",
   "execution_count": 40,
   "metadata": {},
   "outputs": [
    {
     "data": {
      "image/png": "[encoded data removed]",
      "text/plain": [
       "<Figure size 432x288 with 1 Axes>"
      ]
     },
     "metadata": {
      "needs_background": "light"
     },
     "output_type": "display_data"
    }
   ],
   "source": [
    "# Generate a box plot of the final tumor volume of each mouse across four regimens of interest\n",
    "\n",
    "Tumor_Volume = filter_data['Tumor Volume (mm3)_y']\n",
    "regimens = ['Capomulin', 'Ramicane', 'Infubinol','Ceftamin']\n",
    "fig1, ax1 = plt.subplots()\n",
    "ax1.set_title('Tumor Volume Per Mouse Across Four Treatment Regimens')\n",
    "ax1.set_ylabel('Tumor Volume')\n",
    "ax1.set_xlabel(\"Drug Treatment\")\n",
    "\n",
    "ax1.boxplot(Tumor_Volume, regimens)\n",
    "plt.show()\n",
    "\n",
    "# Put treatments into a list for for loop (and later for plot labels)\n",
    "treatment_list = [\"Capomulin\", \"Ramicane\", \"Infubinol\", \"Ceftamin\"]\n",
    "\n",
    "# Create empty list to fill with tumor vol data (for plotting)\n",
    "tumor_vol_list = []\n",
    "\n",
    "# Calculate the IQR and quantitatively determine if there are any potential outliers. \n",
    "for drug in treatment_list:\n",
    "    \n",
    "    # Locate the rows which contain mice on each drug and get the tumor volumes\n",
    "    final_tumor_vol = merged_data.loc[merged_data[\"Drug Regimen\"] == drug, 'Tumor Volume (mm3)']\n",
    "    \n",
    "    # add subset \n",
    "    tumor_vol_list.append(final_tumor_vol)\n",
    "    \n",
    "    # Determine outliers using upper and lower bounds\n",
    "    quartiles = final_tumor_vol.quantile([.25,.5,.75])\n"
   ]
  },
  {
   "cell_type": "markdown",
   "metadata": {},
   "source": [
    "## Line and Scatter Plots"
   ]
  },
  {
   "cell_type": "code",
   "execution_count": 35,
   "metadata": {},
   "outputs": [
    {
     "data": {
      "image/png": "[encoded data removed]",
      "text/plain": [
       "<Figure size 432x288 with 1 Axes>"
      ]
     },
     "metadata": {
      "needs_background": "light"
     },
     "output_type": "display_data"
    }
   ],
   "source": [
    "# Generate a line plot of time point versus tumor volume for a mouse treated with Capomulin\n",
    "\n",
    "#Filter Data\n",
    "mouse_cap = combined_data[combined_data[\"Mouse ID\"].isin([\"b128\"])]\n",
    "trt_cap = mouse_cap[[\"Mouse ID\", \"Timepoint_y\", \"Tumor Volume (mm3)_y\"]]\n",
    "\n",
    "#Set Varibles\n",
    "timepoint = trt_cap[\"Timepoint_y\"]\n",
    "t_vol = trt_cap[\"Tumor Volume (mm3)_y\"]\n",
    "\n",
    "# Plot the tumor volume\n",
    "t_vol_line = plt.plot(timepoint, t_vol)\n",
    "\n",
    "# Show the chart, add labels\n",
    "plt.xlabel('Timepoint')\n",
    "plt.ylabel('Tumor Volume')\n",
    "plt.title('Tumor Volume over Time for Capomulin Treatment')\n",
    "plt.show()\n"
   ]
  },
  {
   "cell_type": "code",
   "execution_count": 26,
   "metadata": {},
   "outputs": [
    {
     "data": {
      "image/png": "[encoded data removed]",
      "text/plain": [
       "<Figure size 432x288 with 1 Axes>"
      ]
     },
     "metadata": {
      "needs_background": "light"
     },
     "output_type": "display_data"
    }
   ],
   "source": [
    "# Generate a scatter plot of mouse weight versus average tumor volume for the Capomulin regimen\n",
    "\n",
    "# Pull values for plot\n",
    "mouse_weight = trt_cap.groupby(trt_cap[\"Mouse ID\"])[\"Weight (g)\"].mean()\n",
    "tumor_vol = trt_cap.groupby(trt_cap[\"Mouse ID\"])[\"Tumor Volume (mm3)_y\"].mean()\n",
    "\n",
    "# Create Scatter Plot with values calculated above\n",
    "plt.scatter(mouse_weight,tumor_vol)\n",
    "plt.xlabel(\"Mouse Weight\")\n",
    "plt.ylabel(\"Tumor Volume\")\n",
    "plt.title(\"Weight VS Tumor Volume for Capomulin Treatment\")\n",
    "plt.show()\n"
   ]
  },
  {
   "cell_type": "markdown",
   "metadata": {},
   "source": [
    "## Correlation and Regression"
   ]
  },
  {
   "cell_type": "code",
   "execution_count": 29,
   "metadata": {},
   "outputs": [
    {
     "data": {
      "image/png": "[encoded data removed]",
      "text/plain": [
       "<Figure size 432x288 with 1 Axes>"
      ]
     },
     "metadata": {
      "needs_background": "light"
     },
     "output_type": "display_data"
    },
    {
     "name": "stdout",
     "output_type": "stream",
     "text": [
      "The correlation between weight and tumor value is 0.84\n"
     ]
    }
   ],
   "source": [
    "# Calculate the correlation coefficient and linear regression model for mouse weight and average tumor volume for the Capomulin regimen\n",
    "\n",
    "# Pull values\n",
    "mouse_weight = trt_cap.groupby(trt_cap[\"Mouse ID\"])[\"Weight (g)\"].mean()\n",
    "tumor_vol = trt_cap.groupby(trt_cap[\"Mouse ID\"])[\"Tumor Volume (mm3)_y\"].mean()\n",
    "\n",
    "# Linear regression\n",
    "slope, int, r, p, std_err = st.linregress(mouse_weight, tumor_vol)\n",
    "      \n",
    "# Create equation of line\n",
    "fit = slope * mouse_weight + int\n",
    "\n",
    "# Plot the linear model on top of scatter plot \n",
    "plt.scatter(mouse_weight,tumor_vol)\n",
    "plt.xlabel(\"Mouse Weight\")\n",
    "plt.ylabel(\"Tumor Volume\")\n",
    "plt.title(\"Weight VS Tumor Volume for Capomulin Treatment\")\n",
    "plt.plot(mouse_weight,fit,\"--\")\n",
    "plt.xticks(mouse_weight, rotation=90)\n",
    "plt.show()\n",
    "\n",
    "# Caculate correlation coefficient\n",
    "corr = round(st.pearsonr(mouse_weight,tumor_vol)[0],2)\n",
    "print(f'The correlation between weight and tumor value is {corr}')"
   ]
  },
  {
   "cell_type": "code",
   "execution_count": null,
   "metadata": {},
   "outputs": [],
   "source": []
  }
 ],
 "metadata": {
  "anaconda-cloud": {},
  "kernelspec": {
   "display_name": "Python 3",
   "language": "python",
   "name": "python3"
  },
  "language_info": {
   "codemirror_mode": {
    "name": "ipython",
    "version": 3
   },
   "file_extension": ".py",
   "mimetype": "text/x-python",
   "name": "python",
   "nbconvert_exporter": "python",
   "pygments_lexer": "ipython3",
   "version": "3.8.3"
  }
 },
 "nbformat": 4,
 "nbformat_minor": 2
}
